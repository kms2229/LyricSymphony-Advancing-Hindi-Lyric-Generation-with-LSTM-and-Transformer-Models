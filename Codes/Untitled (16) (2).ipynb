{
 "cells": [
  {
   "cell_type": "code",
   "execution_count": null,
   "metadata": {
    "id": "oFb313xEpUNU",
    "outputId": "7c96225c-64a5-4cbd-adbd-a2bef50cb851"
   },
   "outputs": [],
   "source": [
    "!pip install --upgrade tensorflow\n",
    "!pip install --upgrade numpy\n",
    "!pip install --upgrade pandas\n"
   ]
  },
  {
   "cell_type": "code",
   "execution_count": 6,
   "metadata": {
    "id": "-FrxHezlpUNY",
    "outputId": "1ef6cb80-7227-4c85-9a7f-bd7bc5e58642"
   },
   "outputs": [],
   "source": [
    "import tensorflow as tf\n",
    "from tensorflow.keras.preprocessing.sequence import pad_sequences\n",
    "from tensorflow.keras.layers import Embedding, LSTM, Dense, Dropout, Bidirectional\n",
    "from tensorflow.keras.preprocessing.text import Tokenizer\n",
    "from tensorflow.keras.models import Sequential\n",
    "from tensorflow.keras import regularizers\n",
    "import numpy as np\n",
    "import tensorflow.keras.utils as ku\n",
    "\n",
    "# Configuring TensorFlow session to use multiple cores\n",
    "threads_num = 32  # Set this to the number of CPU cores\n",
    "config = tf.compat.v1.ConfigProto(intra_op_parallelism_threads=threads_num,\n",
    "                                  inter_op_parallelism_threads=threads_num)\n",
    "session = tf.compat.v1.Session(config=config)\n",
    "tf.compat.v1.keras.backend.set_session(session)\n",
    "\n",
    "# [Rest of your code remains the same]\n"
   ]
  },
  {
   "cell_type": "code",
   "execution_count": 7,
   "metadata": {
    "id": "70txRFGipUNZ"
   },
   "outputs": [],
   "source": [
    "import numpy as np"
   ]
  },
  {
   "cell_type": "code",
   "execution_count": 8,
   "metadata": {
    "id": "1NzarFv-pUNZ",
    "outputId": "fb29b7b3-278e-4ae0-e21f-b8e6f1ada8e9"
   },
   "outputs": [
    {
     "data": {
      "text/plain": [
       "str"
      ]
     },
     "execution_count": 8,
     "metadata": {},
     "output_type": "execute_result"
    }
   ],
   "source": [
    "# Open a text file in read mode\n",
    "with open('hindi_poem_cleaned.txt', 'r') as file:\n",
    "    content = file.read()\n",
    "type(content)\n"
   ]
  },
  {
   "cell_type": "code",
   "execution_count": 9,
   "metadata": {
    "id": "bI8OguhzpUNa"
   },
   "outputs": [],
   "source": [
    "tokenizer = Tokenizer()\n",
    "data = content\n",
    "corpus = data.lower().split(\"\\n\")\n",
    "\n",
    "tokenizer.fit_on_texts(corpus)\n",
    "total_words = len(tokenizer.word_index) + 1\n",
    "\n",
    "# create input sequences using list of tokens\n",
    "input_sequences = []\n",
    "for line in corpus:\n",
    "\ttoken_list = tokenizer.texts_to_sequences([line])[0]\n",
    "\tfor i in range(1, len(token_list)):\n",
    "\t\tn_gram_sequence = token_list[:i+1]\n",
    "\t\tinput_sequences.append(n_gram_sequence)\n",
    "\n",
    "\n",
    "# pad sequences\n",
    "max_sequence_len = max([len(x) for x in input_sequences])\n",
    "input_sequences = np.array(pad_sequences(input_sequences, maxlen=max_sequence_len, padding='pre'))\n",
    "\n",
    "# create predictors and label\n",
    "predictors, label = input_sequences[:,:-1],input_sequences[:,-1]\n",
    "\n",
    "label = ku.to_categorical(label, num_classes=total_words)"
   ]
  },
  {
   "cell_type": "code",
   "execution_count": 10,
   "metadata": {
    "id": "axqb3xyepUNa",
    "outputId": "2131de50-2563-4a31-cdbf-69e91d8358fb"
   },
   "outputs": [
    {
     "name": "stdout",
     "output_type": "stream",
     "text": [
      "(90542, 18)\n",
      "(90542, 18594)\n"
     ]
    }
   ],
   "source": [
    "test_portion = 0.3\n",
    "training_size = len(predictors)\n",
    "\n",
    "split = int(test_portion * training_size)\n",
    "\n",
    "#Train Validation split\n",
    "valid_sequences = predictors[0:split]\n",
    "training_sequences = predictors[split:training_size]\n",
    "valid_labels = label[0:split]\n",
    "training_labels = label[split:training_size]\n",
    "\n",
    "print(valid_sequences.shape)\n",
    "print(valid_labels.shape)"
   ]
  },
  {
   "cell_type": "code",
   "execution_count": 11,
   "metadata": {
    "id": "tvTRAPNKpUNb",
    "outputId": "3928eb11-0b7c-453d-8fe7-6911ba97db6f"
   },
   "outputs": [
    {
     "name": "stdout",
     "output_type": "stream",
     "text": [
      "Model: \"sequential\"\n",
      "_________________________________________________________________\n",
      "Layer (type)                 Output Shape              Param #   \n",
      "=================================================================\n",
      "embedding (Embedding)        (None, 18, 100)           1859400   \n",
      "_________________________________________________________________\n",
      "bidirectional (Bidirectional (None, 18, 300)           301200    \n",
      "_________________________________________________________________\n",
      "dropout (Dropout)            (None, 18, 300)           0         \n",
      "_________________________________________________________________\n",
      "lstm_1 (LSTM)                (None, 100)               160400    \n",
      "_________________________________________________________________\n",
      "dense (Dense)                (None, 18594)             1877994   \n",
      "=================================================================\n",
      "Total params: 4,198,994\n",
      "Trainable params: 4,198,994\n",
      "Non-trainable params: 0\n",
      "_________________________________________________________________\n",
      "None\n",
      "WARNING:tensorflow:From /share/pkg.7/tensorflow/2.3.1/install/lib/SCC/../python3.8/site-packages/tensorflow/python/training/tracking/tracking.py:111: Model.state_updates (from tensorflow.python.keras.engine.training) is deprecated and will be removed in a future version.\n",
      "Instructions for updating:\n",
      "This property should not be used in TensorFlow 2.0, as updates are applied automatically.\n",
      "WARNING:tensorflow:From /share/pkg.7/tensorflow/2.3.1/install/lib/SCC/../python3.8/site-packages/tensorflow/python/training/tracking/tracking.py:111: Layer.updates (from tensorflow.python.keras.engine.base_layer) is deprecated and will be removed in a future version.\n",
      "Instructions for updating:\n",
      "This property should not be used in TensorFlow 2.0, as updates are applied automatically.\n",
      "INFO:tensorflow:Assets written to: ./my_model/assets\n"
     ]
    }
   ],
   "source": [
    "model = Sequential()\n",
    "model.add(Embedding(total_words, 100, input_length=max_sequence_len-1))\n",
    "model.add(Bidirectional(LSTM(150, return_sequences = True)))\n",
    "model.add(Dropout(0.2))\n",
    "model.add(LSTM(100))\n",
    "#model.add(Dense(total_words/2, activation='relu', kernel_regularizer=regularizers.l2(0.01)))\n",
    "model.add(Dense(total_words, activation='softmax'))\n",
    "model.compile(loss='categorical_crossentropy', optimizer='adam', metrics=['accuracy'])\n",
    "print(model.summary())\n",
    "model.save(\"./my_model\")"
   ]
  },
  {
   "cell_type": "code",
   "execution_count": 12,
   "metadata": {
    "id": "PN9ga42epUNb",
    "outputId": "14b389f2-03bc-4ede-be56-f984e8426b14"
   },
   "outputs": [
    {
     "name": "stdout",
     "output_type": "stream",
     "text": [
      "Epoch 1/25\n",
      "6603/6603 [==============================] - 319s 48ms/step - loss: 6.9921 - accuracy: 0.0477 - val_loss: 6.9663 - val_accuracy: 0.0583\n",
      "Epoch 2/25\n",
      "6603/6603 [==============================] - 314s 48ms/step - loss: 6.4458 - accuracy: 0.0732 - val_loss: 6.9275 - val_accuracy: 0.0738\n",
      "Epoch 3/25\n",
      "2898/6603 [============>.................] - ETA: 2:31 - loss: 6.1038 - accuracy: 0.0870"
     ]
    },
    {
     "name": "stderr",
     "output_type": "stream",
     "text": [
      "IOPub message rate exceeded.\n",
      "The notebook server will temporarily stop sending output\n",
      "to the client in order to avoid crashing it.\n",
      "To change this limit, set the config variable\n",
      "`--NotebookApp.iopub_msg_rate_limit`.\n",
      "\n",
      "Current values:\n",
      "NotebookApp.iopub_msg_rate_limit=1000.0 (msgs/sec)\n",
      "NotebookApp.rate_limit_window=3.0 (secs)\n",
      "\n"
     ]
    },
    {
     "name": "stdout",
     "output_type": "stream",
     "text": [
      "6603/6603 [==============================] - 314s 48ms/step - loss: 6.0891 - accuracy: 0.0906 - val_loss: 6.9601 - val_accuracy: 0.0806\n",
      "Epoch 4/25\n",
      "6603/6603 [==============================] - 315s 48ms/step - loss: 5.7636 - accuracy: 0.1080 - val_loss: 7.0437 - val_accuracy: 0.0847\n",
      "Epoch 5/25\n",
      "6603/6603 [==============================] - 315s 48ms/step - loss: 5.4737 - accuracy: 0.1263 - val_loss: 7.2272 - val_accuracy: 0.0874\n",
      "Epoch 6/25\n",
      "6603/6603 [==============================] - 314s 48ms/step - loss: 5.2312 - accuracy: 0.1431 - val_loss: 7.3362 - val_accuracy: 0.0886\n",
      "Epoch 7/25\n",
      "6603/6603 [==============================] - 316s 48ms/step - loss: 5.0208 - accuracy: 0.1598 - val_loss: 7.5127 - val_accuracy: 0.0880\n",
      "Epoch 8/25\n",
      "6603/6603 [==============================] - 313s 47ms/step - loss: 4.8359 - accuracy: 0.1767 - val_loss: 7.6669 - val_accuracy: 0.0872\n",
      "Epoch 9/25\n",
      "6603/6603 [==============================] - 314s 48ms/step - loss: 4.6687 - accuracy: 0.1923 - val_loss: 7.8328 - val_accuracy: 0.0880\n",
      "Epoch 10/25\n",
      "6603/6603 [==============================] - 315s 48ms/step - loss: 4.5143 - accuracy: 0.2081 - val_loss: 8.0136 - val_accuracy: 0.0872\n",
      "Epoch 11/25\n",
      "6603/6603 [==============================] - 314s 48ms/step - loss: 4.3781 - accuracy: 0.2234 - val_loss: 8.1498 - val_accuracy: 0.0866\n",
      "Epoch 12/25\n",
      "6603/6603 [==============================] - 315s 48ms/step - loss: 4.2552 - accuracy: 0.2387 - val_loss: 8.2652 - val_accuracy: 0.0846\n",
      "Epoch 13/25\n",
      "6603/6603 [==============================] - 315s 48ms/step - loss: 4.1440 - accuracy: 0.2512 - val_loss: 8.4300 - val_accuracy: 0.0840\n",
      "Epoch 14/25\n",
      "6603/6603 [==============================] - 314s 48ms/step - loss: 4.0391 - accuracy: 0.2644 - val_loss: 8.5593 - val_accuracy: 0.0816\n",
      "Epoch 15/25\n",
      "6603/6603 [==============================] - 315s 48ms/step - loss: 3.9497 - accuracy: 0.2767 - val_loss: 8.6824 - val_accuracy: 0.0820\n",
      "Epoch 16/25\n",
      "6603/6603 [==============================] - 315s 48ms/step - loss: 3.8649 - accuracy: 0.2884 - val_loss: 8.7926 - val_accuracy: 0.0821\n",
      "Epoch 17/25\n",
      "6603/6603 [==============================] - 315s 48ms/step - loss: 3.7870 - accuracy: 0.2985 - val_loss: 8.9168 - val_accuracy: 0.0798\n",
      "Epoch 18/25\n",
      "6603/6603 [==============================] - 315s 48ms/step - loss: 3.7147 - accuracy: 0.3088 - val_loss: 9.0332 - val_accuracy: 0.0800\n",
      "Epoch 19/25\n",
      "6603/6603 [==============================] - 316s 48ms/step - loss: 3.6551 - accuracy: 0.3170 - val_loss: 9.0563 - val_accuracy: 0.0788\n",
      "Epoch 20/25\n",
      "6603/6603 [==============================] - 315s 48ms/step - loss: 3.5900 - accuracy: 0.3253 - val_loss: 9.1604 - val_accuracy: 0.0784\n",
      "Epoch 21/25\n",
      "6603/6603 [==============================] - 315s 48ms/step - loss: 3.5306 - accuracy: 0.3329 - val_loss: 9.2615 - val_accuracy: 0.0760\n",
      "Epoch 22/25\n",
      "6603/6603 [==============================] - 315s 48ms/step - loss: 3.4781 - accuracy: 0.3413 - val_loss: 9.3539 - val_accuracy: 0.0759\n",
      "Epoch 23/25\n",
      "6603/6603 [==============================] - 315s 48ms/step - loss: 3.4262 - accuracy: 0.3486 - val_loss: 9.4123 - val_accuracy: 0.0786\n",
      "Epoch 24/25\n",
      "6603/6603 [==============================] - 316s 48ms/step - loss: 3.3785 - accuracy: 0.3553 - val_loss: 9.4880 - val_accuracy: 0.0780\n",
      "Epoch 25/25\n",
      "6603/6603 [==============================] - 315s 48ms/step - loss: 3.3309 - accuracy: 0.3620 - val_loss: 9.5783 - val_accuracy: 0.0761\n"
     ]
    }
   ],
   "source": [
    "history = model.fit(training_sequences, training_labels, epochs=25,\n",
    "                    validation_data=(valid_sequences, valid_labels),\n",
    "                    verbose=1)"
   ]
  },
  {
   "cell_type": "code",
   "execution_count": 15,
   "metadata": {
    "id": "KRiPcV8QpUNc"
   },
   "outputs": [
    {
     "data": {
      "image/png": "[encoded data removed]",
      "text/plain": [
       "<Figure size 432x288 with 1 Axes>"
      ]
     },
     "metadata": {
      "needs_background": "light"
     },
     "output_type": "display_data"
    }
   ],
   "source": [
    "import matplotlib.pyplot as plt\n",
    "acc = history.history['accuracy']\n",
    "loss = history.history['loss']\n",
    "\n",
    "epochs = range(len(acc))\n",
    "\n",
    "#plt.plot(epochs, acc, 'b', label='Training accuracy')\n",
    "#plt.title('Training accuracy')\n",
    "#plt.plot(epochs, history.history['val_accuracy'], 'r', label='Validation accuracy')\n",
    "#plt.title('Validation accuracy')\n",
    "\n",
    "\n",
    "plt.figure()\n",
    "\n",
    "plt.plot(epochs, loss, 'b', label='Training Loss')\n",
    "plt.title('Training loss')\n",
    "#plt.plot(epochs, history.history['val_loss'], 'r', label='Validation Loss')\n",
    "#plt.title('Validation loss')\n",
    "plt.legend()\n",
    "\n",
    "plt.show()"
   ]
  },
  {
   "cell_type": "code",
   "execution_count": null,
   "metadata": {},
   "outputs": [],
   "source": []
  },
  {
   "cell_type": "code",
   "execution_count": 16,
   "metadata": {},
   "outputs": [
    {
     "name": "stdout",
     "output_type": "stream",
     "text": [
      "WARNING:tensorflow:From <ipython-input-16-a7b2403caffb>:7: Sequential.predict_classes (from tensorflow.python.keras.engine.sequential) is deprecated and will be removed after 2021-01-01.\n",
      "Instructions for updating:\n",
      "Please use instead:* `np.argmax(model.predict(x), axis=-1)`,   if your model does multi-class classification   (e.g. if it uses a `softmax` last-layer activation).* `(model.predict(x) > 0.5).astype(\"int32\")`,   if your model does binary classification   (e.g. if it uses a `sigmoid` last-layer activation).\n",
      "आकाश की ऊँचाई से नीचे खड़ी है तू क्या है बुरा क्या है कहने का है दीवाना क्या करूँ मैं क्या करूँ मैं क्या करूँ क्या हुआ है मुश्किल है प्यार का अंजाम है दिल में है दीवाना कौन करे कौन है मेरा कलमा कलमा कहाँ तेरी चाहत का दास्तां है तू है तू ही\n"
     ]
    }
   ],
   "source": [
    "seed_text = \"आकाश की ऊँचाई से नीचे\"\n",
    "next_words = 50\n",
    "  \n",
    "for _ in range(next_words):\n",
    "\ttoken_list = tokenizer.texts_to_sequences([seed_text])[0]\n",
    "\ttoken_list = pad_sequences([token_list], maxlen=max_sequence_len-1, padding='pre')\n",
    "\tpredicted = model.predict_classes(token_list, verbose=0)\n",
    "\toutput_word = \"\"\n",
    "\tfor word, index in tokenizer.word_index.items():\n",
    "\t\tif index == predicted:\n",
    "\t\t\toutput_word = word\n",
    "\t\t\tbreak\n",
    "\tseed_text += \" \" + output_word\n",
    "print(seed_text)"
   ]
  },
  {
   "cell_type": "code",
   "execution_count": 17,
   "metadata": {},
   "outputs": [
    {
     "name": "stdout",
     "output_type": "stream",
     "text": [
      "तुम ही हो  तुम मुझे यूँ चुराए लिये जाते हैं मगर तुमको अजनबी से जुदा नहीं मुझे क्या है कहना है क्या प्यार है नहीं क्या है काम नहीं है क्या है हां नहीं है क्या कहना है वो क्या है खेला तेरा मरना जुदा होना मुश्किल है प्यार है क्या हुआ है\n"
     ]
    }
   ],
   "source": [
    "seed_text = \"तुम ही हो \"\n",
    "next_words = 50\n",
    "  \n",
    "for _ in range(next_words):\n",
    "\ttoken_list = tokenizer.texts_to_sequences([seed_text])[0]\n",
    "\ttoken_list = pad_sequences([token_list], maxlen=max_sequence_len-1, padding='pre')\n",
    "\tpredicted = model.predict_classes(token_list, verbose=0)\n",
    "\toutput_word = \"\"\n",
    "\tfor word, index in tokenizer.word_index.items():\n",
    "\t\tif index == predicted:\n",
    "\t\t\toutput_word = word\n",
    "\t\t\tbreak\n",
    "\tseed_text += \" \" + output_word\n",
    "print(seed_text)"
   ]
  },
  {
   "cell_type": "code",
   "execution_count": 19,
   "metadata": {},
   "outputs": [
    {
     "name": "stdout",
     "output_type": "stream",
     "text": [
      "दोस्ती का साया नहीं है मेरा चुनरी में है मेरा वतन भी दिल में है मेरा प्यार न हो तो मेरा दिल जाये ना क्यूँ जले ना क्यूँ परवाना मेरा नाम ना कान्हा डोलना मैं किधर रे ओ ओ ओ ओ ओ ओ ओ ओ ओ ओ ओ ओ ओ ओ\n"
     ]
    }
   ],
   "source": [
    "seed_text = \"दोस्ती\"\n",
    "next_words = 50\n",
    "  \n",
    "for _ in range(next_words):\n",
    "\ttoken_list = tokenizer.texts_to_sequences([seed_text])[0]\n",
    "\ttoken_list = pad_sequences([token_list], maxlen=max_sequence_len-1, padding='pre')\n",
    "\tpredicted = model.predict_classes(token_list, verbose=0)\n",
    "\toutput_word = \"\"\n",
    "\tfor word, index in tokenizer.word_index.items():\n",
    "\t\tif index == predicted:\n",
    "\t\t\toutput_word = word\n",
    "\t\t\tbreak\n",
    "\tseed_text += \" \" + output_word\n",
    "print(seed_text)"
   ]
  },
  {
   "cell_type": "code",
   "execution_count": null,
   "metadata": {},
   "outputs": [],
   "source": []
  }
 ],
 "metadata": {
  "colab": {
   "provenance": []
  },
  "kernelspec": {
   "display_name": "Python 3",
   "language": "python",
   "name": "python3"
  },
  "language_info": {
   "codemirror_mode": {
    "name": "ipython",
    "version": 3
   },
   "file_extension": ".py",
   "mimetype": "text/x-python",
   "name": "python",
   "nbconvert_exporter": "python",
   "pygments_lexer": "ipython3",
   "version": "3.8.6"
  }
 },
 "nbformat": 4,
 "nbformat_minor": 1
}
